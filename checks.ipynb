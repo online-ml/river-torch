{
 "cells": [
  {
   "cell_type": "code",
   "execution_count": 25,
   "metadata": {
    "collapsed": true,
    "pycharm": {
     "name": "#%%\n"
    }
   },
   "outputs": [],
   "source": [
    "from river import datasets\n",
    "from river import metrics\n",
    "from river import preprocessing\n",
    "from river import compose\n",
    "from DeepRiver import classification, regression\n",
    "from DeepRiver.classification.nn_builder import build_torch_lstm_classifier\n",
    "from torch import nn\n",
    "from torch import optim\n",
    "from torch import manual_seed\n",
    "import pickle\n",
    "import numpy as np\n",
    "\n",
    "\n",
    "_ = manual_seed(0)"
   ]
  },
  {
   "cell_type": "code",
   "execution_count": 29,
   "outputs": [
    {
     "name": "stdout",
     "output_type": "stream",
     "text": [
      "Accuracy: 0.0\n"
     ]
    }
   ],
   "source": [
    "model=regression.RollingRegressor(build_fn=build_torch_lstm_classifier, hidden_size=1, loss_fn='bce', optimizer_fn=optim.Adam,learning_rate=1e-3)\n",
    "\n",
    "dataset = datasets.Phishing().take(200)\n",
    "metric = metrics.Accuracy()\n",
    "\n",
    "for x, y in dataset:\n",
    "    y_pred = model.predict_one(x)  # make a prediction\n",
    "    metric = metric.update(y, y_pred)  # update the metric\n",
    "    model = model.learn_one(x, np.bool_(y))  # make the model learn\n",
    "\n",
    "print(f'Accuracy: {metric.get()}')"
   ],
   "metadata": {
    "collapsed": false,
    "pycharm": {
     "name": "#%%\n"
    }
   }
  },
  {
   "cell_type": "code",
   "execution_count": 28,
   "outputs": [
    {
     "name": "stdout",
     "output_type": "stream",
     "text": [
      "True\n"
     ]
    }
   ],
   "source": [
    "assert isinstance(pickle.loads(pickle.dumps(model)), model.__class__)\n",
    "for x, y in dataset:\n",
    "    model.predict_one(x)\n",
    "    model.learn_one(x, y)\n",
    "print(isinstance(pickle.loads(pickle.dumps(model)), model.__class__))"
   ],
   "metadata": {
    "collapsed": false,
    "pycharm": {
     "name": "#%%\n"
    }
   }
  },
  {
   "cell_type": "code",
   "execution_count": null,
   "outputs": [],
   "source": [],
   "metadata": {
    "collapsed": false,
    "pycharm": {
     "name": "#%%\n"
    }
   }
  }
 ],
 "metadata": {
  "kernelspec": {
   "display_name": "Python 3",
   "language": "python",
   "name": "python3"
  },
  "language_info": {
   "codemirror_mode": {
    "name": "ipython",
    "version": 2
   },
   "file_extension": ".py",
   "mimetype": "text/x-python",
   "name": "python",
   "nbconvert_exporter": "python",
   "pygments_lexer": "ipython2",
   "version": "2.7.6"
  }
 },
 "nbformat": 4,
 "nbformat_minor": 0
}